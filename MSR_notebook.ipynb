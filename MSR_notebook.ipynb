{
 "cells": [
  {
   "cell_type": "markdown",
   "id": "f3628f8c",
   "metadata": {},
   "source": [
    "# FIS Project 1 \n",
    " Lesly Perlaza - 441675\n",
    " \n",
    " German Salcedo - 123456"
   ]
  },
  {
   "cell_type": "code",
   "execution_count": 8,
   "id": "3e502c44",
   "metadata": {},
   "outputs": [],
   "source": [
    "import numpy as np\n",
    "import matplotlib.pyplot as plt\n",
    "from utils import decompress_msr"
   ]
  },
  {
   "cell_type": "code",
   "execution_count": 10,
   "id": "18d392e0",
   "metadata": {},
   "outputs": [
    {
     "data": {
      "text/plain": [
       "<matplotlib.lines.Line2D at 0x10e9e9b90>"
      ]
     },
     "execution_count": 10,
     "metadata": {},
     "output_type": "execute_result"
    },
    {
     "data": {
      "image/png": "[encoded data removed]",
      "text/plain": [
       "<Figure size 640x480 with 1 Axes>"
      ]
     },
     "metadata": {},
     "output_type": "display_data"
    }
   ],
   "source": [
    "filename = \"Data/msr_test_symmetric.txt\"\n",
    "#filename = \"Data/cg_matrix_msr_1.txt\"\n",
    "decompressed_matrix= decompress_msr(filename)\n",
    "#print(decompressed_matrix)\n",
    "plt.spy(decompressed_matrix, markersize=20, color='r')"
   ]
  }
 ],
 "metadata": {
  "kernelspec": {
   "display_name": "Python 3",
   "language": "python",
   "name": "python3"
  },
  "language_info": {
   "codemirror_mode": {
    "name": "ipython",
    "version": 3
   },
   "file_extension": ".py",
   "mimetype": "text/x-python",
   "name": "python",
   "nbconvert_exporter": "python",
   "pygments_lexer": "ipython3",
   "version": "3.11.5"
  }
 },
 "nbformat": 4,
 "nbformat_minor": 5
}
