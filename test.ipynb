{
 "cells": [
  {
   "cell_type": "code",
   "execution_count": null,
   "id": "45ec43f7",
   "metadata": {},
   "outputs": [
    {
     "name": "stdout",
     "output_type": "stream",
     "text": [
      "Column indices: [0 1 2]\n",
      "amoun of nonzero values per row: [0, 0, 1, 2]\n",
      "values: [ 2.  4. -1.]\n",
      "Matrix shape: (4, 4)\n",
      "Values of filling:2 at row 3, group 2\n",
      "Placing value 2.0 at row 2, column 0\n",
      "Values of filling:2 at row 3, group 2\n",
      "Placing value 4.0 at row 3, column 1\n",
      "Values of filling:2 at row 3, group 2\n",
      "Row 2: Start index 6, End index 7, Fillings: 1\n"
     ]
    },
    {
     "ename": "IndexError",
     "evalue": "index 6 is out of bounds for axis 1 with size 4",
     "output_type": "error",
     "traceback": [
      "\u001b[0;31m---------------------------------------------------------------------------\u001b[0m",
      "\u001b[0;31mIndexError\u001b[0m                                Traceback (most recent call last)",
      "Cell \u001b[0;32mIn[92], line 52\u001b[0m\n\u001b[1;32m     50\u001b[0m     \u001b[38;5;28mprint\u001b[39m(\u001b[38;5;124mf\u001b[39m\u001b[38;5;124m\"\u001b[39m\u001b[38;5;124mRow \u001b[39m\u001b[38;5;132;01m{\u001b[39;00mrow_idx\u001b[38;5;132;01m}\u001b[39;00m\u001b[38;5;124m: Start index \u001b[39m\u001b[38;5;132;01m{\u001b[39;00mrow_start\u001b[38;5;132;01m}\u001b[39;00m\u001b[38;5;124m, End index \u001b[39m\u001b[38;5;132;01m{\u001b[39;00mrow_end\u001b[38;5;132;01m}\u001b[39;00m\u001b[38;5;124m, Fillings: \u001b[39m\u001b[38;5;132;01m{\u001b[39;00mgroup\u001b[38;5;132;01m}\u001b[39;00m\u001b[38;5;124m\"\u001b[39m)\n\u001b[1;32m     51\u001b[0m     \u001b[38;5;28;01mfor\u001b[39;00m col_idx \u001b[38;5;129;01min\u001b[39;00m \u001b[38;5;28mrange\u001b[39m(row_start, row_end):\n\u001b[0;32m---> 52\u001b[0m         value \u001b[38;5;241m=\u001b[39m matrix[row_idx, col_idx]\n\u001b[1;32m     53\u001b[0m         \u001b[38;5;28mprint\u001b[39m(\u001b[38;5;124mf\u001b[39m\u001b[38;5;124m\"\u001b[39m\u001b[38;5;124mRow \u001b[39m\u001b[38;5;132;01m{\u001b[39;00mrow_idx\u001b[38;5;132;01m}\u001b[39;00m\u001b[38;5;124m, Column \u001b[39m\u001b[38;5;132;01m{\u001b[39;00mcol\u001b[38;5;132;01m}\u001b[39;00m\u001b[38;5;124m: Value \u001b[39m\u001b[38;5;132;01m{\u001b[39;00mvalue\u001b[38;5;132;01m}\u001b[39;00m\u001b[38;5;124m\"\u001b[39m)\n\u001b[1;32m     55\u001b[0m \u001b[38;5;28mprint\u001b[39m(matrix\u001b[38;5;241m+\u001b[39mdiag)\n",
      "\u001b[0;31mIndexError\u001b[0m: index 6 is out of bounds for axis 1 with size 4"
     ]
    }
   ],
   "source": [
    "import numpy as np\n",
    "filename = \"Data_P1/msr_test_symmetric.txt\"\n",
    "\n",
    "# Read data from the file\n",
    "with open(filename, 'r') as f:\n",
    "    next(f)\n",
    "    lines = f.readlines()\n",
    "\n",
    "header = lines[0].strip().split()\n",
    "n = int(header[0])\n",
    "fillings = []\n",
    "data = [line.strip().split() for line in lines[1:]]\n",
    "ids = np.array([int(item[0]) for item in data])\n",
    "ids_rows = ids[0:n+1]  # Extracting row indices\n",
    "ids_cols = ids[n+1:len(ids)]  # Extract column indices\n",
    "ids_cols = ids_cols-1  # Adjust column indices to be zero-based\n",
    "print(\"Column indices:\", ids_cols)\n",
    "\n",
    "for i in range(len(ids_rows) - 1): # only consider the row elements\n",
    "    fillings.append(ids_rows[i+1] - ids_rows[i])  # append filling numbers\n",
    "\n",
    "print(\"amoun of nonzero values per row:\", fillings)\n",
    "\n",
    "vals = np.array([float(item[1]) for item in data])  # Convert to floats and extract values of matrix\n",
    "\n",
    "diag = np.diag(vals[0:n]) # Read diagonal elements\n",
    "vals = vals[n+1:len(vals)]  # Exclude diagonal elements from vals\n",
    "print(f\"values: {vals}\")\n",
    "\n",
    "matrix = np.zeros((n, n)) # Initialize the matrix\n",
    "\n",
    "\n",
    "print(\"Matrix shape:\", matrix.shape)\n",
    "# Fill values based on the fillings and column indices\n",
    "for val, col, group_id in zip(vals, ids_cols, range(1, len(vals) + 1)):\n",
    "    print(f\"Values of filling:{fillings[i]} at row {row_idx}, group {group}\")\n",
    "    for row_idx, group in enumerate(fillings, start=0):\n",
    "        if group == group_id:\n",
    "            matrix[row_idx, col] = val\n",
    "            placed = True\n",
    "            print(f\"Placing value {val} at row {row_idx}, column {col}\")\n",
    "\n",
    "\n",
    "print(matrix+diag)\n",
    "\n"
   ]
  },
  {
   "cell_type": "markdown",
   "id": "9cff054c",
   "metadata": {},
   "source": [
    "Correct answer should be \n",
    "\n",
    "4 0 0 0 \n",
    "\n",
    "0 8 0 0\n",
    "\n",
    "2 0 5 0\n",
    "\n",
    "0 4 -1 8 \n"
   ]
  }
 ],
 "metadata": {
  "kernelspec": {
   "display_name": "base",
   "language": "python",
   "name": "python3"
  },
  "language_info": {
   "codemirror_mode": {
    "name": "ipython",
    "version": 3
   },
   "file_extension": ".py",
   "mimetype": "text/x-python",
   "name": "python",
   "nbconvert_exporter": "python",
   "pygments_lexer": "ipython3",
   "version": "3.12.7"
  }
 },
 "nbformat": 4,
 "nbformat_minor": 5
}
