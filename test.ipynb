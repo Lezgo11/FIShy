{
 "cells": [
  {
   "cell_type": "code",
   "execution_count": null,
   "id": "45ec43f7",
   "metadata": {},
   "outputs": [
    {
     "name": "stdout",
     "output_type": "stream",
     "text": [
      "Column indices: [0 1 2]\n",
      "amoun of nonzero values per row: [0, 0, 1, 2]\n",
      "values: [ 2.  4. -1.]\n",
      "['s']\n",
      "Matrix:\n",
      " [[ 8.  0.  2.  0.]\n",
      " [ 0. 16.  0.  4.]\n",
      " [ 2.  0. 10. -1.]\n",
      " [ 0.  4. -1. 16.]]\n"
     ]
    }
   ],
   "source": [
    "import numpy as np\n",
    "filename = \"Data_P1/msr_test_symmetric.txt\"\n",
    "\n",
    "# Read data from the file\n",
    "with open(filename, 'r') as f:\n",
    "    # Read the first line as a string\n",
    "    SorN = [next(f)]\n",
    "    lines = f.readlines()\n",
    "SorN= SorN[0].strip().split()\n",
    "header = lines[0].strip().split()\n",
    "n = int(header[0])\n",
    "fillings = []\n",
    "data = [line.strip().split() for line in lines[1:]]\n",
    "ids = np.array([int(item[0]) for item in data])\n",
    "ids_rows = ids[0:n+1]  # Extracting row indices\n",
    "ids_cols = ids[n+1:len(ids)]  # Extract column indices\n",
    "ids_cols = ids_cols-1  # Adjust column indices to be zero-based\n",
    "print(\"Column indices:\", ids_cols)\n",
    "\n",
    "for i in range(len(ids_rows) - 1): # only consider the row elements\n",
    "    fillings.append(ids_rows[i+1] - ids_rows[i])  # append filling numbers\n",
    "\n",
    "print(\"amoun of nonzero values per row:\", fillings)\n",
    "\n",
    "vals = np.array([float(item[1]) for item in data])  # Convert to floats and extract values of matrix\n",
    "\n",
    "diag = np.diag(vals[0:n]) # Read diagonal elements\n",
    "vals = vals[n+1:len(vals)]  # Exclude diagonal elements from vals\n",
    "print(f\"values: {vals}\")\n",
    "\n",
    "matrix = np.zeros((n, n)) # Initialize the matrix\n",
    "\n",
    "\n",
    "\n",
    "\n",
    "dict_fillings = {}  # Initialize dict_fillings as an empty dictionary\n",
    "for i in range(len(fillings)):\n",
    "    dict_fillings[i] = fillings[i]\n",
    "\n",
    "# Use dictionaries to fill the matrix\n",
    "for i in range(n):\n",
    "    if dict_fillings[i] == 0:\n",
    "        continue  # Skip rows with no fillings\n",
    "    start_idx = sum(fillings[:i])  # Calculate the starting index for the current row\n",
    "    end_idx = start_idx + fillings[i]  # Calculate the ending index for the current row\n",
    "    for idx, j in enumerate(ids_cols[start_idx:end_idx]):\n",
    "        if idx < len(vals):  # Ensure we don't exceed the length of vals\n",
    "            matrix[i, j] = vals[start_idx + idx]\n",
    "matrix = matrix + diag\n",
    "if SorN[0] == \"s\":\n",
    "    matrix = matrix + matrix.T  # Make the matrix symmetric\n",
    "print(\"Matrix:\\n\", matrix)\n",
    "\n",
    "\n"
   ]
  },
  {
   "cell_type": "markdown",
   "id": "9cff054c",
   "metadata": {},
   "source": [
    "Correct answer should be \n",
    "\n",
    "4 0 0 0 \n",
    "\n",
    "0 8 0 0\n",
    "\n",
    "2 0 5 0\n",
    "\n",
    "0 4 -1 8 \n"
   ]
  },
  {
   "cell_type": "code",
   "execution_count": null,
   "id": "da55c309",
   "metadata": {},
   "outputs": [],
   "source": [
    "print(\"Matrix shape:\", matrix.shape)\n",
    "# Fill values based on the fillings and column indices\n",
    "for val, col, group_id in zip(vals, ids_cols, range(1, len(vals) + 10)):\n",
    "    #print(f\"Values of filling:{fillings[i]} at row {row_idx}, group {group}\")\n",
    "    for row_idx, group in enumerate(fillings):\n",
    "        if group == group_id:\n",
    "            matrix[row_idx, col] = val\n",
    "            placed = True\n",
    "            #print(f\"Placing value {val} at row {row_idx}, column {col}\")\n",
    "\n",
    "\n",
    "print(matrix+diag)\n"
   ]
  }
 ],
 "metadata": {
  "kernelspec": {
   "display_name": "base",
   "language": "python",
   "name": "python3"
  },
  "language_info": {
   "codemirror_mode": {
    "name": "ipython",
    "version": 3
   },
   "file_extension": ".py",
   "mimetype": "text/x-python",
   "name": "python",
   "nbconvert_exporter": "python",
   "pygments_lexer": "ipython3",
   "version": "3.12.7"
  }
 },
 "nbformat": 4,
 "nbformat_minor": 5
}
